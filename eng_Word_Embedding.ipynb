{
  "nbformat": 4,
  "nbformat_minor": 0,
  "metadata": {
    "colab": {
      "name": "English_Word_Embedding.ipynb",
      "provenance": [],
      "collapsed_sections": [],
      "authorship_tag": "ABX9TyOGiff4IA8a9vUjylsBPx98",
      "include_colab_link": true
    },
    "kernelspec": {
      "name": "python3",
      "display_name": "Python 3"
    },
    "language_info": {
      "name": "python"
    }
  },
  "cells": [
    {
      "cell_type": "markdown",
      "metadata": {
        "id": "view-in-github",
        "colab_type": "text"
      },
      "source": [
        "<a href=\"https://colab.research.google.com/github/abs-git/NLP/blob/main/English_Word_Embedding.ipynb\" target=\"_parent\"><img src=\"https://colab.research.google.com/assets/colab-badge.svg\" alt=\"Open In Colab\"/></a>"
      ]
    },
    {
      "cell_type": "code",
      "execution_count": 1,
      "metadata": {
        "colab": {
          "base_uri": "https://localhost:8080/"
        },
        "id": "q4TLkUzPZo8-",
        "outputId": "3665ff6b-593d-4b8a-8114-719c8dc0fd64"
      },
      "outputs": [
        {
          "output_type": "stream",
          "name": "stdout",
          "text": [
            "Mounted at /content/gdrive\n"
          ]
        }
      ],
      "source": [
        "from google.colab import drive\n",
        "drive.mount('/content/gdrive')"
      ]
    },
    {
      "cell_type": "code",
      "source": [
        "# glue data load\n",
        "\n",
        "path = '/content/gdrive/MyDrive/Colab Notebooks/NLP'\n",
        "\n",
        "with open(path + '/glue_train.txt', 'r') as f:\n",
        "  train_sentences = f.readlines()\n",
        "\n",
        "for i, sen in enumerate(train_sentences):\n",
        "  train_sentences[i] = sen.rstrip(\"\\n\")\n",
        "\n",
        "with open(path + '/glue_test.txt', 'r') as f:\n",
        "  test_sentences = f.readlines()\n",
        "\n",
        "for i, sen in enumerate(test_sentences):\n",
        "  test_sentences[i] = sen.rstrip(\"\\n\")\n",
        "\n",
        "print(\"train : {}\".format(len(train_sentences)))\n",
        "print(\"test : {}\".format(len(test_sentences)))\n",
        "\n",
        "print(train_sentences[:2])\n",
        "print(test_sentences[:2])\n",
        "\n"
      ],
      "metadata": {
        "colab": {
          "base_uri": "https://localhost:8080/"
        },
        "id": "cZOBhSBGckYR",
        "outputId": "09d3776a-e4f6-46ca-e331-4c5ada8b0b36"
      },
      "execution_count": 2,
      "outputs": [
        {
          "output_type": "stream",
          "name": "stdout",
          "text": [
            "train : 8551\n",
            "test : 1063\n",
            "[\"Our friends won't buy this analysis, let alone the next one we propose.\", \"One more pseudo generalization and I'm giving up.\"]\n",
            "['Bill whistled past the house.', 'The car honked its way down the road.']\n"
          ]
        }
      ]
    },
    {
      "cell_type": "markdown",
      "source": [
        "## Frequency (count) based embedding"
      ],
      "metadata": {
        "id": "vwGBDaMynFL2"
      }
    },
    {
      "cell_type": "markdown",
      "source": [
        "Reference : https://datascienceschool.net/03%20machine%20learning/03.01.03%20Scikit-Learn%EC%9D%98%20%EB%AC%B8%EC%84%9C%20%EC%A0%84%EC%B2%98%EB%A6%AC%20%EA%B8%B0%EB%8A%A5.html"
      ],
      "metadata": {
        "id": "y_yZ3_DHU74B"
      }
    },
    {
      "cell_type": "code",
      "source": [
        "# Bag of Word (BoW)\n",
        "import numpy as np\n",
        "from collections import defaultdict\n",
        "\n",
        "\n",
        "tokens = []\n",
        "for sen in train_sentences[:3]:\n",
        "  \n",
        "  words = sen.split()\n",
        "  for w in words:\n",
        "    w = w.lower()\n",
        "    if w not in tokens:\n",
        "      tokens.append(w)\n",
        "\n",
        "\n",
        "vocab = defaultdict(int)\n",
        "for i, t in enumerate(tokens):\n",
        "  vocab[t] += i+1\n",
        "\n",
        "\n",
        "def BoW(sentences_list, vocab):\n",
        "\n",
        "  BoW = []\n",
        "  for sen in sentences_list:\n",
        "    sen_words = sen.split()\n",
        "    \n",
        "    temp = []\n",
        "    for t, i in vocab.items():\n",
        "      if t in sen_words:\n",
        "        count = sen_words.count(t)\n",
        "        temp.append(count)\n",
        "      else:\n",
        "        temp.append(0)\n",
        "\n",
        "    BoW.append(temp)\n",
        "\n",
        "  return BoW\n",
        "\n",
        "\n",
        "BoW = BoW(train_sentences[:3], vocab)\n",
        "\n",
        "\n",
        "print(\"sentences     : {}\".format(train_sentences[:3]))\n",
        "print(\"tokens        : {}\".format(tokens))\n",
        "print(\"vocab         : {}\".format(dict(vocab)))\n",
        "print(\"sen to vector : {}\".format(np.array(BoW)))"
      ],
      "metadata": {
        "colab": {
          "base_uri": "https://localhost:8080/"
        },
        "id": "Z_0ItQHQVmYQ",
        "outputId": "825efec4-3233-474b-af85-161292799bec"
      },
      "execution_count": null,
      "outputs": [
        {
          "output_type": "stream",
          "name": "stdout",
          "text": [
            "sentences     : [\"Our friends won't buy this analysis, let alone the next one we propose.\", \"One more pseudo generalization and I'm giving up.\", \"One more pseudo generalization or I'm giving up.\"]\n",
            "tokens        : ['our', 'friends', \"won't\", 'buy', 'this', 'analysis,', 'let', 'alone', 'the', 'next', 'one', 'we', 'propose.', 'more', 'pseudo', 'generalization', 'and', \"i'm\", 'giving', 'up.', 'or']\n",
            "vocab         : {'our': 1, 'friends': 2, \"won't\": 3, 'buy': 4, 'this': 5, 'analysis,': 6, 'let': 7, 'alone': 8, 'the': 9, 'next': 10, 'one': 11, 'we': 12, 'propose.': 13, 'more': 14, 'pseudo': 15, 'generalization': 16, 'and': 17, \"i'm\": 18, 'giving': 19, 'up.': 20, 'or': 21}\n",
            "sen to vector : [[0 1 1 1 1 1 1 1 1 1 1 1 1 0 0 0 0 0 0 0 0]\n",
            " [0 0 0 0 0 0 0 0 0 0 0 0 0 1 1 1 1 0 1 1 0]\n",
            " [0 0 0 0 0 0 0 0 0 0 0 0 0 1 1 1 0 0 1 1 1]]\n"
          ]
        }
      ]
    },
    {
      "cell_type": "code",
      "source": [
        "from sklearn.feature_extraction.text import CountVectorizer\n",
        "\n",
        "# vectorizer = CountVectorizer(token_pattern = string)\n",
        "vectorizer = CountVectorizer()\n",
        "\n",
        "# CountVectorizer는 기본적으로 길이가 2이상인 문자만 토큰으로 인식한다.\n",
        "words_freq = vectorizer.fit_transform(train_sentences[:3]).toarray()\n",
        "\n",
        "vocab = vectorizer.vocabulary_\n",
        "\n",
        "print(\"sentences       : {}\".format(np.array(train_sentences[:3])))\n",
        "print(\"words frequency : {}\".format(words_freq))    \n",
        "print(\"vocab           : {}\".format(vocab))\n"
      ],
      "metadata": {
        "colab": {
          "base_uri": "https://localhost:8080/"
        },
        "id": "jqmt0zxScsbR",
        "outputId": "9f67bb66-ebd3-4b46-e80a-735786f1e57b"
      },
      "execution_count": null,
      "outputs": [
        {
          "output_type": "stream",
          "name": "stdout",
          "text": [
            "sentences       : [\"Our friends won't buy this analysis, let alone the next one we propose.\"\n",
            " \"One more pseudo generalization and I'm giving up.\"\n",
            " \"One more pseudo generalization or I'm giving up.\"]\n",
            "words frequency : [[1 1 0 1 1 0 0 1 0 1 1 0 1 1 0 1 1 0 1 1]\n",
            " [0 0 1 0 0 1 1 0 1 0 1 0 0 0 1 0 0 1 0 0]\n",
            " [0 0 0 0 0 1 1 0 1 0 1 1 0 0 1 0 0 1 0 0]]\n",
            "vocab           : {'our': 12, 'friends': 4, 'won': 19, 'buy': 3, 'this': 16, 'analysis': 1, 'let': 7, 'alone': 0, 'the': 15, 'next': 9, 'one': 10, 'we': 18, 'propose': 13, 'more': 8, 'pseudo': 14, 'generalization': 5, 'and': 2, 'giving': 6, 'up': 17, 'or': 11}\n"
          ]
        }
      ]
    },
    {
      "cell_type": "code",
      "source": [
        "# TF-IDF (Term Frequency-Inverse Document Frequency, 단어 빈도-역 문서 빈도)\n",
        "from math import log\n",
        "\n",
        "class tf_idf():\n",
        "  def __init__(self, docs):\n",
        "    self.docs = docs\n",
        "    self.vocab = []\n",
        "    self.nDocs = len(docs)\n",
        "\n",
        "  def get_vocab(self):\n",
        "    \n",
        "    vocab = []\n",
        "    for doc in self.docs:\n",
        "      doc = doc.lower()\n",
        "      words = doc.split(\" \")\n",
        "\n",
        "      for w in words:\n",
        "        if w not in self.vocab:\n",
        "          self.vocab.append(w)\n",
        "\n",
        "    return self.vocab\n",
        "\n",
        "\n",
        "  def get_tfidf(self):\n",
        "\n",
        "    # df\n",
        "    df = defaultdict(int)\n",
        "    for doc in self.docs:\n",
        "      doc = doc.lower()\n",
        "      words = doc.split(\" \")\n",
        "\n",
        "      temp = []\n",
        "      for t in self.vocab:\n",
        "        if t in words:\n",
        "          df[t] += 1\n",
        "\n",
        "\n",
        "    # df -> idf\n",
        "    idf = defaultdict(int)\n",
        "    for t, df_value in df.items():\n",
        "      idf[t] = log( self.nDocs / (df_value + 1) )\n",
        "\n",
        "\n",
        "\n",
        "    tf_idf = []\n",
        "    for doc in self.docs:\n",
        "      doc = doc.lower()\n",
        "      words = doc.split(\" \")\n",
        "\n",
        "      temp = []\n",
        "      for t in self.vocab:\n",
        "        if t in words:\n",
        "          tf = words.count(t)              # tf\n",
        "          result = round(tf * idf[t], 4)\n",
        "          temp.append(result)\n",
        "\n",
        "        else:\n",
        "          temp.append(0)\n",
        "\n",
        "      tf_idf.append(temp)\n",
        "\n",
        "    \n",
        "    return tf_idf\n"
      ],
      "metadata": {
        "id": "lpUOvDBs9YuK"
      },
      "execution_count": null,
      "outputs": []
    },
    {
      "cell_type": "code",
      "source": [
        "\n",
        "vectorizer = tf_idf(train_sentences[:4])\n",
        "\n",
        "vocab = vectorizer.get_vocab()\n",
        "print(vocab)\n",
        "\n",
        "matrix = vectorizer.get_tfidf()\n",
        "print(\"result : {}\".format(np.array(matrix)))\n",
        "\n",
        "# nDocs = 4, df = 3인 경우 log 1 -> 0 이 되기 때문에 오류가 발생하기도 한다. "
      ],
      "metadata": {
        "colab": {
          "base_uri": "https://localhost:8080/"
        },
        "id": "vPcL5c44w_XT",
        "outputId": "98816029-3c9c-4b2f-fce1-c0dac622eb4c"
      },
      "execution_count": null,
      "outputs": [
        {
          "output_type": "stream",
          "name": "stdout",
          "text": [
            "['our', 'friends', \"won't\", 'buy', 'this', 'analysis,', 'let', 'alone', 'the', 'next', 'one', 'we', 'propose.', 'more', 'pseudo', 'generalization', 'and', \"i'm\", 'giving', 'up.', 'or', 'study', 'verbs,', 'crazier', 'they', 'get.']\n",
            "result : [[0.6931 0.6931 0.6931 0.6931 0.6931 0.6931 0.6931 0.6931 0.2877 0.6931\n",
            "  0.     0.2877 0.6931 0.     0.     0.     0.     0.     0.     0.\n",
            "  0.     0.     0.     0.     0.     0.    ]\n",
            " [0.     0.     0.     0.     0.     0.     0.     0.     0.     0.\n",
            "  0.     0.     0.     0.     0.2877 0.2877 0.6931 0.2877 0.2877 0.2877\n",
            "  0.     0.     0.     0.     0.     0.    ]\n",
            " [0.     0.     0.     0.     0.     0.     0.     0.     0.     0.\n",
            "  0.     0.     0.     0.     0.2877 0.2877 0.     0.2877 0.2877 0.2877\n",
            "  0.6931 0.     0.     0.     0.     0.    ]\n",
            " [0.     0.     0.     0.     0.     0.     0.     0.     0.5754 0.\n",
            "  0.     0.2877 0.     0.     0.     0.     0.     0.     0.     0.\n",
            "  0.     0.6931 0.6931 0.6931 0.6931 0.6931]]\n"
          ]
        }
      ]
    },
    {
      "cell_type": "code",
      "source": [
        "from sklearn.feature_extraction.text import TfidfVectorizer\n",
        "\n",
        "vectorizer = TfidfVectorizer()\n",
        "\n",
        "tfidf = vectorizer.fit_transform(train_sentences[:4]).toarray()\n",
        "vocab = vectorizer.vocabulary_\n",
        "\n",
        "print(\"sentences : {}\".format(train_sentences[0]))\n",
        "print(\"TF-IDF    : {}\".format(tfidf))\n",
        "print(\"vocab     : {}\".format(vocab))\n"
      ],
      "metadata": {
        "colab": {
          "base_uri": "https://localhost:8080/"
        },
        "id": "8iRMY5PoJ5or",
        "outputId": "0654a879-7cf6-4815-a29d-240d2f2b417f"
      },
      "execution_count": null,
      "outputs": [
        {
          "output_type": "stream",
          "name": "stdout",
          "text": [
            "sentences : Our friends won't buy this analysis, let alone the next one we propose.\n",
            "TF-IDF    : [[0.29297188 0.29297188 0.         0.29297188 0.         0.29297188\n",
            "  0.         0.         0.         0.29297188 0.         0.29297188\n",
            "  0.18700015 0.         0.29297188 0.29297188 0.         0.\n",
            "  0.23098239 0.         0.29297188 0.         0.         0.23098239\n",
            "  0.29297188]\n",
            " [0.         0.         0.48217603 0.         0.         0.\n",
            "  0.38015312 0.         0.38015312 0.         0.30776671 0.\n",
            "  0.30776671 0.         0.         0.         0.38015312 0.\n",
            "  0.         0.         0.         0.38015312 0.         0.\n",
            "  0.        ]\n",
            " [0.         0.         0.         0.         0.         0.\n",
            "  0.38015312 0.         0.38015312 0.         0.30776671 0.\n",
            "  0.30776671 0.48217603 0.         0.         0.38015312 0.\n",
            "  0.         0.         0.         0.38015312 0.         0.\n",
            "  0.        ]\n",
            " [0.         0.         0.         0.         0.34268741 0.\n",
            "  0.         0.34268741 0.         0.         0.21873293 0.\n",
            "  0.         0.         0.         0.         0.         0.34268741\n",
            "  0.54035737 0.34268741 0.         0.         0.34268741 0.27017869\n",
            "  0.        ]]\n",
            "vocab     : {'our': 14, 'friends': 5, 'won': 24, 'buy': 3, 'this': 20, 'analysis': 1, 'let': 9, 'alone': 0, 'the': 18, 'next': 11, 'one': 12, 'we': 23, 'propose': 15, 'more': 10, 'pseudo': 16, 'generalization': 6, 'and': 2, 'giving': 8, 'up': 21, 'or': 13, 'study': 17, 'verbs': 22, 'crazier': 4, 'they': 19, 'get': 7}\n"
          ]
        }
      ]
    },
    {
      "cell_type": "markdown",
      "source": [
        "# Prediction based embedding"
      ],
      "metadata": {
        "id": "MhjAxRTfnmnF"
      }
    },
    {
      "cell_type": "markdown",
      "source": [
        "### Word2Vec"
      ],
      "metadata": {
        "id": "Uov-6_87nqLo"
      }
    },
    {
      "cell_type": "code",
      "source": [
        "# CBOW (Continuous Bag Of Words) & Skip-gram\n",
        "# Data processing\n",
        "# CBOW와 Skip-gram 과정에서는 One hot encoding 을 수행하도록 한다.(torch의 경우 필수는 아님.)\n",
        "\n",
        "import numpy as np\n",
        "\n",
        "\n",
        "def create_vocab(sentences_list):\n",
        "  \n",
        "  vocab = []\n",
        "  for sen in sentences_list:\n",
        "    sen = sen.lower()\n",
        "    tokens = sen.split(\" \")\n",
        "\n",
        "    for t in tokens:\n",
        "      if t not in vocab:\n",
        "        vocab.append(t)\n",
        "\n",
        "  length = len(vocab)\n",
        "  word_to_onehot = {}\n",
        "\n",
        "  for i, v in enumerate(vocab):\n",
        "    one_hot = np.zeros(length)\n",
        "    one_hot[i] = 1\n",
        "    word_to_onehot[v] = list(one_hot)\n",
        "  \n",
        "  return word_to_onehot\n",
        "\n",
        "\n",
        "def create_word2vec_dataset(sentences_list, onehot_vocab, n = 2):     # n = window size\n",
        "\n",
        "  contexts_data = []\n",
        "  centers_data = []\n",
        "  for sen in sentences_list:\n",
        "    sen = sen.lower()\n",
        "    tokens = sen.split(\" \")                     # tokenizing\n",
        "\n",
        "    for t_idx in range(n, len(tokens)-n):       # tokens[n:-n]\n",
        "      center = tokens[t_idx]\n",
        "\n",
        "      context = tokens[t_idx - n : t_idx+1 + n]\n",
        "      context.remove(center)\n",
        "\n",
        "      context_to_onehot = []\n",
        "      for c in context:\n",
        "        context_to_onehot.append(onehot_vocab[c])\n",
        "        \n",
        "      center_to_onehot = onehot_vocab[center]\n",
        "\n",
        "\n",
        "      contexts_data.append(context_to_onehot)\n",
        "      centers_data.append(center_to_onehot)\n",
        "\n",
        "  return contexts_data, centers_data\n",
        "\n",
        "\n",
        "def get_batch(contexts, centers, batch_size = 4):\n",
        "\n",
        "  iter = len(centers) // batch_size\n",
        "\n",
        "  batch = []\n",
        "  idx = 0\n",
        "  for i in range(iter):\n",
        "\n",
        "    contexts_batch = np.array(contexts[idx : idx + batch_size])\n",
        "    centers_batch = np.array(centers[idx : idx + batch_size])\n",
        "\n",
        "    batch.append((contexts_batch, centers_batch))\n",
        "\n",
        "    idx = i + batch_size\n",
        "\n",
        "  return batch\n",
        "\n",
        "\n",
        "nContext = 2\n",
        "batch_size = 4\n",
        "\n",
        "onehot_vocab = create_vocab(train_sentences)\n",
        "\n",
        "contexts, centers = create_word2vec_dataset(train_sentences[:10], onehot_vocab, nContext)\n",
        "\n",
        "word2vec_batch = get_batch(contexts, centers, batch_size)\n",
        "\n",
        "print('contexts shape : {}'.format(np.array(contexts).shape))\n",
        "print('centers shape : {}'.format(np.array(centers).shape))\n"
      ],
      "metadata": {
        "id": "-6tKXEof0xOP",
        "colab": {
          "base_uri": "https://localhost:8080/"
        },
        "outputId": "9eb2338e-deca-4245-8eac-ff07e125db50"
      },
      "execution_count": 6,
      "outputs": [
        {
          "output_type": "stream",
          "name": "stdout",
          "text": [
            "contexts shape : (34, 4, 7845)\n",
            "centers shape : (34, 7845)\n"
          ]
        }
      ]
    },
    {
      "cell_type": "code",
      "source": [
        "# torch CBOW\n",
        "\n",
        "import torch\n",
        "from torch import nn\n",
        "from torch.optim import SGD\n",
        "import torch.nn.functional as F\n",
        "\n",
        "\n",
        "class CBOW(nn.Module):\n",
        "  def __init__(self, vocab_size, embedding_size, context_size): \n",
        "    # 어휘 수 (onehot size), 임베딩 벡터 크기 (table size), 문맥 단어의 수 n (context number)\n",
        "    \n",
        "    super(CBOW, self).__init__()\n",
        "\n",
        "    self.vocab_size = vocab_size\n",
        "    self.embedding_size = embedding_size\n",
        "    self.context_size = context_size\n",
        "\n",
        "    self.embedding = nn.Embedding(self.vocab_size, self.embedding_size)         # lookup table / 어휘 수, 뉴런 수\n",
        "    self.linear1 = nn.Linear(2 * self.context_size * self.embedding_size, 512)\n",
        "    self.linear2 = nn.Linear(512, self.vocab_size)\n",
        "\n",
        "\n",
        "  def forward(self, inputs):   \n",
        "\n",
        "    # inputs : (Batch size, Number of context words, Onehot context)\n",
        "    # embedded : (Batch size, Number of context words, Onehot context, Onehot to embedding vector)\n",
        "    # u : (Batch size, Number of context words, Onehot to embedding vector) \n",
        "    #   ->(Batch size, Number of context words * Onehot to embedding vector)\n",
        "    # out : (Batch size, Onehot size embedding vector)\n",
        "\n",
        "    batch_size = inputs.shape[0]\n",
        "    \n",
        "    embedded = self.embedding(inputs)\n",
        "\n",
        "    u = embedded.sum(dim = 2)\n",
        "    u = u.view(batch_size,-1)\n",
        "\n",
        "    out = self.linear1(u)\n",
        "    out = F.relu(out)\n",
        "\n",
        "    out = self.linear2(out)\n",
        "    out = F.log_softmax(out, dim = 1)\n",
        "\n",
        "    return out\n"
      ],
      "metadata": {
        "id": "ekF0hpIN_ReF"
      },
      "execution_count": null,
      "outputs": []
    },
    {
      "cell_type": "code",
      "source": [
        "# CBOW train\n",
        "\n",
        "vocab_size = len(onehot_vocab)      # Number of words, 7845\n",
        "embedding_size = 100                # Table size\n",
        "\n",
        "losses = []\n",
        "\n",
        "model = CBOW(vocab_size, embedding_size, nContext)\n",
        "\n",
        "criterion = nn.CrossEntropyLoss()\n",
        "optim = SGD(model.parameters(), lr=0.0001)\n",
        "\n",
        "for epoch in range(10):\n",
        "  \n",
        "  batch_loss = 0\n",
        "  for i, batch in enumerate(word2vec_batch):\n",
        "\n",
        "    contexts = torch.tensor(batch[0], dtype = torch.long)\n",
        "    centers = torch.tensor(batch[1], dtype = torch.float32)\n",
        "\n",
        "    optim.zero_grad()\n",
        "    probs = model(contexts)\n",
        "\n",
        "    loss = criterion(probs, centers)\n",
        "    loss.backward()\n",
        "    optim.step()\n",
        "\n",
        "    batch_loss = batch_loss + loss.item()\n",
        "\n",
        "  print('epoch : {}, loss : {}'.format(epoch+1, batch_loss))\n",
        "  \n",
        "  losses.append(batch_loss)\n"
      ],
      "metadata": {
        "id": "x0CUYiNv6-0d",
        "colab": {
          "base_uri": "https://localhost:8080/"
        },
        "outputId": "73b27857-bc67-49b6-b874-d578692ce890"
      },
      "execution_count": null,
      "outputs": [
        {
          "output_type": "stream",
          "name": "stdout",
          "text": [
            "epoch : 1, loss : 2.5208925254331023e+19\n",
            "epoch : 2, loss : nan\n",
            "epoch : 3, loss : nan\n",
            "epoch : 4, loss : nan\n",
            "epoch : 5, loss : nan\n",
            "epoch : 6, loss : nan\n",
            "epoch : 7, loss : nan\n",
            "epoch : 8, loss : nan\n",
            "epoch : 9, loss : nan\n",
            "epoch : 10, loss : nan\n"
          ]
        }
      ]
    },
    {
      "cell_type": "code",
      "source": [
        "# torch Skip-gram\n",
        "\n",
        "class SkipGram(nn.Module):\n",
        "  def __init__(self, vocab_size, embedding_size, context_size): \n",
        "    # 어휘 수 (onehot size), 임베딩 벡터 크기 (table size), 문맥 단어의 수 n (context number)\n",
        "    \n",
        "    super(SkipGram, self).__init__()\n",
        "\n",
        "    self.vocab_size = vocab_size\n",
        "    self.embedding_size = embedding_size\n",
        "    self.context_size = context_size\n",
        "\n",
        "    self.embedding = nn.Embedding(self.vocab_size, self.embedding_size)         # 룩업(lookup) : 테이블 / 어휘 수, 뉴런 수\n",
        "    self.linear1 = nn.Linear(self.embedding_size, 512)\n",
        "    self.linear2 = nn.Linear(512, 2 * self.context_size * self.vocab_size)\n",
        "\n",
        "\n",
        "  def forward(self, inputs):   \n",
        "\n",
        "    # inputs : (Batch size, Onehot center)\n",
        "    # embedded : (Batch size, Onehot center, Onehot to embedding vector)\n",
        "    # u : (Batch size, Onehot to embedding vector)\n",
        "    # out : (Batch size, Onehot size embedding vector)\n",
        "    #    -> (Batch size, Number of contexts, Onehot vector)\n",
        "\n",
        "    batch_size = inputs.shape[0]\n",
        "    \n",
        "    embedded = self.embedding(inputs)\n",
        "\n",
        "    u = embedded.sum(dim = 1)\n",
        "\n",
        "    out = self.linear1(u)\n",
        "    out = F.relu(out)\n",
        "\n",
        "    out = self.linear2(out)\n",
        "    out = F.log_softmax(out)\n",
        "\n",
        "    out = out.view(batch_size, 2 * self.context_size, -1)\n",
        "\n",
        "    return out\n",
        "\n"
      ],
      "metadata": {
        "id": "PzbsCNU2nM46"
      },
      "execution_count": null,
      "outputs": []
    },
    {
      "cell_type": "code",
      "source": [
        "# Skip gram train\n",
        "\n",
        "vocab_size = len(onehot_vocab)      # 7845\n",
        "embedding_size = 100\n",
        "\n",
        "losses = []\n",
        "\n",
        "model = SkipGram(vocab_size, embedding_size, nContext)\n",
        "\n",
        "criterion = nn.CrossEntropyLoss()\n",
        "optim = SGD(model.parameters(), lr=0.0001)\n",
        "\n",
        "for epoch in range(10):\n",
        "  total_loss = 0\n",
        "  for i, batch in enumerate(word2vec_batch):\n",
        "    contexts = torch.tensor(batch[0], dtype = torch.float32)\n",
        "    centers = torch.tensor(batch[1], dtype = torch.long)\n",
        "\n",
        "    optim.zero_grad()\n",
        "    probs = model(centers)\n",
        "\n",
        "    loss = criterion(probs, contexts)\n",
        "    loss.backward()\n",
        "    optim.step()\n",
        "\n",
        "    batch_loss = batch_loss + loss.item()\n",
        "\n",
        "  print('epoch : {}, loss : {}'.format(epoch+1, batch_loss))\n",
        "  \n",
        "  losses.append(batch_loss)\n"
      ],
      "metadata": {
        "colab": {
          "base_uri": "https://localhost:8080/"
        },
        "id": "zHDg7lYMvm0E",
        "outputId": "72c89893-085b-4714-d879-44504ce233f3"
      },
      "execution_count": null,
      "outputs": [
        {
          "output_type": "stream",
          "name": "stderr",
          "text": [
            "/usr/local/lib/python3.7/dist-packages/ipykernel_launcher.py:34: UserWarning: Implicit dimension choice for softmax has been deprecated. Change the call to include dim=X as an argument.\n"
          ]
        },
        {
          "output_type": "stream",
          "name": "stdout",
          "text": [
            "epoch : 1, loss : nan\n",
            "epoch : 2, loss : nan\n",
            "epoch : 3, loss : nan\n",
            "epoch : 4, loss : nan\n",
            "epoch : 5, loss : nan\n",
            "epoch : 6, loss : nan\n",
            "epoch : 7, loss : nan\n",
            "epoch : 8, loss : nan\n",
            "epoch : 9, loss : nan\n",
            "epoch : 10, loss : nan\n"
          ]
        }
      ]
    },
    {
      "cell_type": "code",
      "source": [
        "# SGNS (Skip-Gram with Negative Sampling)\n",
        "# Data processing\n",
        "# SGNS 에서는 Onehot encoding 없이 수행해본다.\n",
        "\n",
        "import numpy as np\n",
        "import random\n",
        "\n",
        "def create_sgns_vocab(sentences_list):\n",
        "  \n",
        "  vocab = []\n",
        "  for sen in sentences_list:\n",
        "    sen = sen.lower()\n",
        "    tokens = sen.split(\" \")\n",
        "\n",
        "    for t in tokens:\n",
        "      if t not in vocab:\n",
        "        vocab.append(t)\n",
        "\n",
        "  length = len(vocab)\n",
        "  word_to_label = {}\n",
        "\n",
        "  init = 2                           # 0과 1은 pad, unk로 사용할 수 있도록 제외\n",
        "  for i, v in enumerate(vocab):\n",
        "    label = init + i\n",
        "    word_to_label[v] = label\n",
        "  \n",
        "  return word_to_label\n",
        "\n",
        "\n",
        "def create_ngns_dataset(sentences_list, vocab, nContext, nNega):\n",
        "\n",
        "  center_data = []\n",
        "  pos_data = []\n",
        "  nega_data = []\n",
        "  for sen in sentences_list:\n",
        "    sen = sen.lower()\n",
        "    tokens = sen.split(\" \")                     # tokenizing\n",
        "\n",
        "    for t_idx in range(nContext, len(tokens)-nContext):       # tokens[n:-n]\n",
        "      \n",
        "      vocab_words = list(vocab.keys())\n",
        "      windows = tokens[t_idx - nContext : t_idx+1 + nContext]\n",
        "      \n",
        "      center_words = tokens[t_idx]\n",
        "      pos_words = windows                                                 # context words\n",
        "      pos_words.remove(center_words)\n",
        "      nega_words = random.sample(set(vocab_words) - set(windows), nNega)  # negative sampling words\n",
        "\n",
        "      center_data.append(vocab[center_words])\n",
        "      \n",
        "      temp_pos = []\n",
        "      temp_nega = []\n",
        "      for p, n in zip(pos_words, nega_words):\n",
        "        temp_pos.append(vocab[p])\n",
        "        temp_nega.append(vocab[n])\n",
        "\n",
        "      pos_data.append(temp_pos)\n",
        "      nega_data.append(temp_nega)\n",
        "\n",
        "  return center_data, pos_data, nega_data\n",
        "\n",
        "\n",
        "def get_batch(center_data, pos_data, nega_data, batch_size = 4):\n",
        "\n",
        "  iter = len(center_data) // batch_size\n",
        "\n",
        "  batch = []\n",
        "  idx = 0\n",
        "  for i in range(iter):\n",
        "\n",
        "    center_batch = np.array(center_data[idx : idx + batch_size])\n",
        "    pos_batch = np.array(pos_data[idx : idx + batch_size])\n",
        "    nega_batch = np.array(nega_data[idx : idx + batch_size])\n",
        "\n",
        "    batch.append((center_batch, pos_batch, nega_batch))\n",
        "\n",
        "    idx = i + batch_size\n",
        "\n",
        "  return batch\n",
        "\n",
        "\n",
        "nContext = 2\n",
        "nNega = 4\n",
        "batch_size = 4\n",
        "\n",
        "sgns_vocab = create_sgns_vocab(train_sentences[:3])\n",
        "\n",
        "center_data, pos_data, nega_data = create_ngns_dataset(train_sentences[:3], sgns_vocab, nContext, nNega)\n",
        "\n",
        "ngns_batch = get_batch(center_data, pos_data, nega_data, batch_size)\n",
        "\n",
        "\n",
        "print(np.array(center_data).shape)\n",
        "print(np.array(pos_data).shape)\n",
        "print(np.array(nega_data).shape)\n",
        "\n",
        "# print(center_data)\n",
        "# print(pos_data)\n",
        "# print(nega_data)\n"
      ],
      "metadata": {
        "id": "uKXwCudfn2tl",
        "colab": {
          "base_uri": "https://localhost:8080/"
        },
        "outputId": "0454ccd6-efbf-4d59-8b26-f0bd2237903e"
      },
      "execution_count": 4,
      "outputs": [
        {
          "output_type": "stream",
          "name": "stdout",
          "text": [
            "(17,)\n",
            "(17, 4)\n",
            "(17, 4)\n"
          ]
        }
      ]
    },
    {
      "cell_type": "code",
      "source": [
        "# torch SGNS\n",
        "\n",
        "import torch\n",
        "from torch import nn\n",
        "from torch.optim import SGD\n",
        "import torch.nn.functional as F\n",
        "\n",
        "class Embedding(nn.Module):\n",
        "\n",
        "  def __init__(self, vocab_size, embedding_size, nContext): \n",
        "    super(Embedding, self).__init__()\n",
        "\n",
        "    self.vocab_size = vocab_size\n",
        "    self.embedding_size = embedding_size\n",
        "    self.nContext = nContext\n",
        "    \n",
        "    self.in_embedding = nn.Embedding(vocab_size, embedding_size)\n",
        "    self.out_embedding = nn.Embedding(vocab_size, embedding_size)\n",
        "  \n",
        "  def input_forward(self, input_word):\n",
        "   \n",
        "    return self.in_embedding(input_word)\n",
        "\n",
        "  def output_forward(self, output_words):\n",
        "\n",
        "    return self.out_embedding(output_words)\n",
        "\n",
        "\n",
        "class SkipGramNegaLoss(nn.Module):\n",
        "\n",
        "  def __init__(self): \n",
        "    super(SkipGramNegaLoss, self).__init__()\n",
        "\n",
        "  def forward(self, input_vector, output_vectors, nega_vectors):\n",
        "\n",
        "    batch_size, embedding_size = input_vector.shape\n",
        "\n",
        "    input_vector = input_vector.view(batch_size, embedding_size, 1)    \n",
        "    output_vectors = output_vectors.view(batch_size, 1, -1)\n",
        "    nega_vectors = nega_vectors.view(batch_size, 1, -1)\n",
        "\n",
        "    outputs_mul = torch.bmm(input_vector, output_vectors)               # bmm : batch matrix-matrix product \n",
        "    nega_mul = torch.bmm(input_vector, nega_vectors)\n",
        "\n",
        "    outputs_loss = outputs_mul.sigmoid().log().mean(1)\n",
        "    nega_loss = nega_mul.sigmoid().log().mean(1)\n",
        "\n",
        "    loss = -(outputs_loss + nega_loss).mean()\n",
        "\n",
        "    return loss\n",
        "\n"
      ],
      "metadata": {
        "id": "J8ngB6j-NojA"
      },
      "execution_count": 25,
      "outputs": []
    },
    {
      "cell_type": "code",
      "source": [
        "# SGNS train\n",
        "\n",
        "vocab_size = len(onehot_vocab)\n",
        "embedding_size = 100\n",
        "\n",
        "losses = []\n",
        "\n",
        "model = Embedding(vocab_size, embedding_size, nContext)\n",
        "\n",
        "criterion = SkipGramNegaLoss()\n",
        "optim = SGD(model.parameters(), lr=0.0001)\n",
        "\n",
        "for epoch in range(10):\n",
        "  batch_loss = 0\n",
        "  for i, batch in enumerate(ngns_batch):\n",
        "    centers = torch.tensor(batch[0], dtype = torch.long)\n",
        "    positives = torch.tensor(batch[1], dtype = torch.long)\n",
        "    negatives = torch.tensor(batch[2], dtype = torch.long)\n",
        "\n",
        "    in_vector = model.input_forward(centers)\n",
        "    out_vectors = model.output_forward(positives)\n",
        "    nega_vectors = model.output_forward(negatives).neg()\n",
        "    \n",
        "    loss = criterion(in_vector, out_vectors, nega_vectors)\n",
        "\n",
        "    optim.zero_grad()\n",
        "    loss.backward()\n",
        "    optim.step()\n",
        "\n",
        "    batch_loss = batch_loss + loss.item()\n",
        "\n",
        "  print('epoch : {}, loss : {}'.format(epoch+1, batch_loss))\n",
        "  \n",
        "  losses.append(batch_loss)\n",
        "\n"
      ],
      "metadata": {
        "colab": {
          "base_uri": "https://localhost:8080/"
        },
        "id": "S9S_7evXNsvI",
        "outputId": "18747e38-0480-40a9-f16a-3a90e48fbc57"
      },
      "execution_count": 26,
      "outputs": [
        {
          "output_type": "stream",
          "name": "stdout",
          "text": [
            "epoch : 1, loss : 6.339974999427795\n",
            "epoch : 2, loss : 6.339974761009216\n",
            "epoch : 3, loss : 6.3399741649627686\n",
            "epoch : 4, loss : 6.3399739265441895\n",
            "epoch : 5, loss : 6.3399738073349\n",
            "epoch : 6, loss : 6.339973449707031\n",
            "epoch : 7, loss : 6.339973211288452\n",
            "epoch : 8, loss : 6.3399728536605835\n",
            "epoch : 9, loss : 6.339972615242004\n",
            "epoch : 10, loss : 6.339972376823425\n"
          ]
        }
      ]
    },
    {
      "cell_type": "code",
      "source": [
        "from sklearn.metrics.pairwise import cosine_similarity\n",
        "\n",
        "embeddings = model.in_embedding.weight.data.numpy()\n"
      ],
      "metadata": {
        "id": "sTTz8lcOhj_D"
      },
      "execution_count": 29,
      "outputs": []
    },
    {
      "cell_type": "code",
      "source": [
        "# gensim built-in Word2Vec\n",
        "\n",
        "import re\n",
        "import nltk\n",
        "nltk.download('punkt')\n",
        "from nltk.tokenize import word_tokenize, sent_tokenize\n",
        "\n",
        "tokens = []\n",
        "for sen in train_sentences:\n",
        "  words = re.sub(r\"[^a-z0-9]+\", \" \", sen.lower())\n",
        "  tokens.append(words)\n",
        "\n",
        "corpus = []\n",
        "corpus = [word_tokenize(sen) for sen in tokens]\n",
        "\n",
        "# print(corpus)\n",
        "print(corpus[0])"
      ],
      "metadata": {
        "colab": {
          "base_uri": "https://localhost:8080/"
        },
        "id": "tgNaFq5AqOlq",
        "outputId": "b15f4523-7303-4946-9a50-2c4427d618c2"
      },
      "execution_count": 87,
      "outputs": [
        {
          "output_type": "stream",
          "name": "stderr",
          "text": [
            "[nltk_data] Downloading package punkt to /root/nltk_data...\n",
            "[nltk_data]   Package punkt is already up-to-date!\n"
          ]
        },
        {
          "output_type": "stream",
          "name": "stdout",
          "text": [
            "['our', 'friends', 'won', 't', 'buy', 'this', 'analysis', 'let', 'alone', 'the', 'next', 'one', 'we', 'propose']\n"
          ]
        }
      ]
    },
    {
      "cell_type": "code",
      "source": [
        "# gensim built-in Word2Vec\n",
        "\n",
        "from gensim.models import Word2Vec\n",
        "\n",
        "model = Word2Vec(sentences = corpus, size = 100, window = 5, min_count = 1, workers = 4)\n",
        "\n",
        "sims = model.wv.most_similar('our', topn = 10)\n",
        "\n",
        "print(sims)\n",
        "\n",
        "oov_word = model.wv.most_similar('ascbefg', topn = 10)  # not in vocabrary 에러 발생"
      ],
      "metadata": {
        "colab": {
          "base_uri": "https://localhost:8080/",
          "height": 402
        },
        "id": "h6gMA4PCoC_L",
        "outputId": "5f579b2e-a163-4101-9b6f-6f7676a2a6ad"
      },
      "execution_count": 88,
      "outputs": [
        {
          "output_type": "stream",
          "name": "stdout",
          "text": [
            "[('his', 0.9998941421508789), ('an', 0.999886691570282), ('s', 0.9998843669891357), ('and', 0.9998832941055298), ('were', 0.9998786449432373), ('my', 0.9998785853385925), ('will', 0.9998752474784851), ('from', 0.9998750686645508), ('with', 0.9998745322227478), ('all', 0.999873161315918)]\n"
          ]
        },
        {
          "output_type": "error",
          "ename": "KeyError",
          "evalue": "ignored",
          "traceback": [
            "\u001b[0;31m---------------------------------------------------------------------------\u001b[0m",
            "\u001b[0;31mKeyError\u001b[0m                                  Traceback (most recent call last)",
            "\u001b[0;32m<ipython-input-88-4a94314081d5>\u001b[0m in \u001b[0;36m<module>\u001b[0;34m()\u001b[0m\n\u001b[1;32m      9\u001b[0m \u001b[0mprint\u001b[0m\u001b[0;34m(\u001b[0m\u001b[0msims\u001b[0m\u001b[0;34m)\u001b[0m\u001b[0;34m\u001b[0m\u001b[0;34m\u001b[0m\u001b[0m\n\u001b[1;32m     10\u001b[0m \u001b[0;34m\u001b[0m\u001b[0m\n\u001b[0;32m---> 11\u001b[0;31m \u001b[0moov_word\u001b[0m \u001b[0;34m=\u001b[0m \u001b[0mmodel\u001b[0m\u001b[0;34m.\u001b[0m\u001b[0mwv\u001b[0m\u001b[0;34m.\u001b[0m\u001b[0mmost_similar\u001b[0m\u001b[0;34m(\u001b[0m\u001b[0;34m'ascbefg'\u001b[0m\u001b[0;34m,\u001b[0m \u001b[0mtopn\u001b[0m \u001b[0;34m=\u001b[0m \u001b[0;36m10\u001b[0m\u001b[0;34m)\u001b[0m  \u001b[0;31m# not in vocabrary 에러 발생\u001b[0m\u001b[0;34m\u001b[0m\u001b[0;34m\u001b[0m\u001b[0m\n\u001b[0m",
            "\u001b[0;32m/usr/local/lib/python3.7/dist-packages/gensim/models/keyedvectors.py\u001b[0m in \u001b[0;36mmost_similar\u001b[0;34m(self, positive, negative, topn, restrict_vocab, indexer)\u001b[0m\n\u001b[1;32m    529\u001b[0m                 \u001b[0mmean\u001b[0m\u001b[0;34m.\u001b[0m\u001b[0mappend\u001b[0m\u001b[0;34m(\u001b[0m\u001b[0mweight\u001b[0m \u001b[0;34m*\u001b[0m \u001b[0mword\u001b[0m\u001b[0;34m)\u001b[0m\u001b[0;34m\u001b[0m\u001b[0;34m\u001b[0m\u001b[0m\n\u001b[1;32m    530\u001b[0m             \u001b[0;32melse\u001b[0m\u001b[0;34m:\u001b[0m\u001b[0;34m\u001b[0m\u001b[0;34m\u001b[0m\u001b[0m\n\u001b[0;32m--> 531\u001b[0;31m                 \u001b[0mmean\u001b[0m\u001b[0;34m.\u001b[0m\u001b[0mappend\u001b[0m\u001b[0;34m(\u001b[0m\u001b[0mweight\u001b[0m \u001b[0;34m*\u001b[0m \u001b[0mself\u001b[0m\u001b[0;34m.\u001b[0m\u001b[0mword_vec\u001b[0m\u001b[0;34m(\u001b[0m\u001b[0mword\u001b[0m\u001b[0;34m,\u001b[0m \u001b[0muse_norm\u001b[0m\u001b[0;34m=\u001b[0m\u001b[0;32mTrue\u001b[0m\u001b[0;34m)\u001b[0m\u001b[0;34m)\u001b[0m\u001b[0;34m\u001b[0m\u001b[0;34m\u001b[0m\u001b[0m\n\u001b[0m\u001b[1;32m    532\u001b[0m                 \u001b[0;32mif\u001b[0m \u001b[0mword\u001b[0m \u001b[0;32min\u001b[0m \u001b[0mself\u001b[0m\u001b[0;34m.\u001b[0m\u001b[0mvocab\u001b[0m\u001b[0;34m:\u001b[0m\u001b[0;34m\u001b[0m\u001b[0;34m\u001b[0m\u001b[0m\n\u001b[1;32m    533\u001b[0m                     \u001b[0mall_words\u001b[0m\u001b[0;34m.\u001b[0m\u001b[0madd\u001b[0m\u001b[0;34m(\u001b[0m\u001b[0mself\u001b[0m\u001b[0;34m.\u001b[0m\u001b[0mvocab\u001b[0m\u001b[0;34m[\u001b[0m\u001b[0mword\u001b[0m\u001b[0;34m]\u001b[0m\u001b[0;34m.\u001b[0m\u001b[0mindex\u001b[0m\u001b[0;34m)\u001b[0m\u001b[0;34m\u001b[0m\u001b[0;34m\u001b[0m\u001b[0m\n",
            "\u001b[0;32m/usr/local/lib/python3.7/dist-packages/gensim/models/keyedvectors.py\u001b[0m in \u001b[0;36mword_vec\u001b[0;34m(self, word, use_norm)\u001b[0m\n\u001b[1;32m    450\u001b[0m             \u001b[0;32mreturn\u001b[0m \u001b[0mresult\u001b[0m\u001b[0;34m\u001b[0m\u001b[0;34m\u001b[0m\u001b[0m\n\u001b[1;32m    451\u001b[0m         \u001b[0;32melse\u001b[0m\u001b[0;34m:\u001b[0m\u001b[0;34m\u001b[0m\u001b[0;34m\u001b[0m\u001b[0m\n\u001b[0;32m--> 452\u001b[0;31m             \u001b[0;32mraise\u001b[0m \u001b[0mKeyError\u001b[0m\u001b[0;34m(\u001b[0m\u001b[0;34m\"word '%s' not in vocabulary\"\u001b[0m \u001b[0;34m%\u001b[0m \u001b[0mword\u001b[0m\u001b[0;34m)\u001b[0m\u001b[0;34m\u001b[0m\u001b[0;34m\u001b[0m\u001b[0m\n\u001b[0m\u001b[1;32m    453\u001b[0m \u001b[0;34m\u001b[0m\u001b[0m\n\u001b[1;32m    454\u001b[0m     \u001b[0;32mdef\u001b[0m \u001b[0mget_vector\u001b[0m\u001b[0;34m(\u001b[0m\u001b[0mself\u001b[0m\u001b[0;34m,\u001b[0m \u001b[0mword\u001b[0m\u001b[0;34m)\u001b[0m\u001b[0;34m:\u001b[0m\u001b[0;34m\u001b[0m\u001b[0;34m\u001b[0m\u001b[0m\n",
            "\u001b[0;31mKeyError\u001b[0m: \"word 'ascbefg' not in vocabulary\""
          ]
        }
      ]
    },
    {
      "cell_type": "markdown",
      "source": [
        "### FastText"
      ],
      "metadata": {
        "id": "xaJSZgeGoEDH"
      }
    },
    {
      "cell_type": "code",
      "source": [
        "\n",
        "import re\n",
        "import nltk\n",
        "nltk.download('punkt')\n",
        "from nltk.tokenize import word_tokenize, sent_tokenize\n",
        "\n",
        "tokens = []\n",
        "for sen in train_sentences:\n",
        "  words = re.sub(r\"[^a-z0-9]+\", \" \", sen.lower())\n",
        "  tokens.append(words)\n",
        "\n",
        "corpus = []\n",
        "corpus = [word_tokenize(sen) for sen in tokens]\n",
        "\n",
        "# print(corpus)\n",
        "print(corpus[0])"
      ],
      "metadata": {
        "colab": {
          "base_uri": "https://localhost:8080/"
        },
        "id": "-1rzUkLBkzS2",
        "outputId": "56636730-fdb8-4ed6-c61e-47817ed9d809"
      },
      "execution_count": 89,
      "outputs": [
        {
          "output_type": "stream",
          "name": "stderr",
          "text": [
            "[nltk_data] Downloading package punkt to /root/nltk_data...\n",
            "[nltk_data]   Package punkt is already up-to-date!\n"
          ]
        },
        {
          "output_type": "stream",
          "name": "stdout",
          "text": [
            "['our', 'friends', 'won', 't', 'buy', 'this', 'analysis', 'let', 'alone', 'the', 'next', 'one', 'we', 'propose']\n"
          ]
        }
      ]
    },
    {
      "cell_type": "code",
      "source": [
        "# FastText\n",
        "\n",
        "# gensim의 모델들은 지정된 최소 워드 수 (min_count) 이상의 워드들에 대해서만 vocab를 생성하기 때문에\n",
        "# corpus 내의 token의 수가 너무 적을 경우 학습을 할 수 없다. \n",
        "\n",
        "from gensim.models import FastText\n",
        "\n",
        "model = FastText(sentences = corpus, size = 1000, window = 5, min_count = 1, workers = 4, sg = 1)\n",
        "\n",
        "oov_word = model.most_similar('abcdefg')    # not in vocabrary 에러 발생 X\n",
        "\n",
        "print(oov_word)"
      ],
      "metadata": {
        "id": "o0OoAOkaoBA9",
        "colab": {
          "base_uri": "https://localhost:8080/"
        },
        "outputId": "e211e6ec-923f-4eed-9f48-5f5d9a6529df"
      },
      "execution_count": 58,
      "outputs": [
        {
          "output_type": "stream",
          "name": "stderr",
          "text": [
            "/usr/local/lib/python3.7/dist-packages/ipykernel_launcher.py:10: DeprecationWarning: Call to deprecated `most_similar` (Method will be removed in 4.0.0, use self.wv.most_similar() instead).\n",
            "  # Remove the CWD from sys.path while we load stuff.\n"
          ]
        },
        {
          "output_type": "stream",
          "name": "stdout",
          "text": [
            "[('leslie', 0.9999485611915588), ('sushi', 0.9999330043792725), ('leaks', 0.9999262690544128), ('announce', 0.9999244213104248), ('least', 0.999923825263977), ('dante', 0.9999207854270935), ('important', 0.9999205470085144), ('learn', 0.9999188184738159), ('seoul', 0.9999173879623413), ('held', 0.9999144673347473)]\n"
          ]
        }
      ]
    },
    {
      "cell_type": "markdown",
      "source": [
        "# Frequency + Prediction based embedding"
      ],
      "metadata": {
        "id": "YzeU2i3-oLga"
      }
    },
    {
      "cell_type": "code",
      "source": [
        "# GloVe\n",
        "\n",
        "from nltk.tokenize import word_tokenize\n",
        "\n",
        "def create_vocab(corpus):\n",
        "\n",
        "  tokens = []\n",
        "  sen_to_tokens = []\n",
        "  for sen in corpus:\n",
        "    sen = sen.lower()\n",
        "    words = word_tokenize(sen)\n",
        "\n",
        "    sen_to_tokens.append(words)\n",
        "    tokens.extend(words)\n",
        "\n",
        "  tokens = np.unique(tokens)\n",
        "\n",
        "  vocab = {token: idx for idx, token in enumerate(tokens)}\n",
        "\n",
        "  corpus_to_id = []\n",
        "  for sen in sen_to_tokens:\n",
        "    token_to_idx = []\n",
        "    for token in sen:\n",
        "      token_to_idx.append(vocab[token])\n",
        "    corpus_to_id.append(token_to_idx)\n",
        "\n",
        "  return vocab, corpus_to_id\n",
        "\n",
        "\n",
        "def make_cooccur(vocab, corpus_to_id, window_size):\n",
        "\n",
        "  vocab_size = len(vocab)\n",
        "\n",
        "  co_mat = np.zeros((vocab_size, vocab_size))\n",
        "\n",
        "  for sen in corpus_to_id:\n",
        "    for center_i, center_token_id in enumerate(sen):\n",
        "\n",
        "      left_i = center_i - 1\n",
        "      right_i = center_i + 1\n",
        "\n",
        "      if left_i >= 0:\n",
        "        left_token_id = sen[left_i]\n",
        "        co_mat[center_token_id, left_token_id] += 1\n",
        "\n",
        "      if right_i < len(sen):\n",
        "        right_token_id = sen[right_i]\n",
        "        co_mat[center_token_id, right_token_id] += 1\n",
        "\n",
        "  return co_mat\n",
        "\n",
        "\n",
        "vocab, corpus_to_id = create_vocab(train_sentences[:3])\n",
        "co_mat = make_cooccur(vocab, corpus_to_id, 2)\n",
        "\n",
        "# print(vocab)\n",
        "# print(corpus_to_id)\n",
        "\n",
        "print(co_mat[:5])"
      ],
      "metadata": {
        "id": "Ht8mx87doQFP",
        "colab": {
          "base_uri": "https://localhost:8080/"
        },
        "outputId": "c10d1373-d8b5-42d4-c4ab-d8dcecc95043"
      },
      "execution_count": 86,
      "outputs": [
        {
          "output_type": "stream",
          "name": "stdout",
          "text": [
            "[[0. 0. 0. 0. 0. 0. 0. 0. 0. 2. 2. 0. 0. 0. 0. 0. 0. 0. 0. 0. 0. 0. 0. 0.\n",
            "  0.]\n",
            " [0. 0. 0. 0. 1. 0. 0. 0. 0. 0. 0. 1. 0. 0. 0. 0. 0. 0. 0. 0. 0. 0. 0. 0.\n",
            "  0.]\n",
            " [0. 0. 0. 0. 0. 0. 0. 0. 0. 0. 0. 0. 0. 0. 0. 0. 0. 0. 1. 0. 0. 0. 2. 0.\n",
            "  0.]\n",
            " [0. 0. 0. 0. 0. 0. 0. 0. 0. 0. 0. 1. 0. 0. 0. 0. 0. 0. 0. 0. 1. 0. 0. 0.\n",
            "  0.]\n",
            " [0. 1. 0. 0. 0. 0. 0. 0. 0. 0. 0. 0. 0. 0. 0. 0. 0. 0. 0. 0. 0. 1. 0. 0.\n",
            "  0.]]\n"
          ]
        }
      ]
    },
    {
      "cell_type": "code",
      "source": [
        "# GloVe package \n",
        "\n",
        "# !pip install glove"
      ],
      "metadata": {
        "id": "PR6rvHYLueRt"
      },
      "execution_count": 63,
      "outputs": []
    },
    {
      "cell_type": "code",
      "source": [
        "from glove import Corpus, Glove\n",
        "\n",
        "co_mat = Corpus()\n",
        "co_mat.fit(train_sentences, window = 5)         # 동시 등장 행렬 (co-occurrence matrix) 생성\n",
        "\n",
        "model = Glove(no_components = 100, learning_rate = 0.001)\n",
        "model.fit(co_mat.matrix, epoch = 10, no_threads = 4)\n",
        "model.add_dictionary(co_mat.dictionary)\n",
        "\n",
        "test = model.most_similar(\"all\")\n"
      ],
      "metadata": {
        "id": "Y0pDURWmrNI2"
      },
      "execution_count": null,
      "outputs": []
    },
    {
      "cell_type": "markdown",
      "source": [
        "# Language model based embedding"
      ],
      "metadata": {
        "id": "K_bCICzboV1T"
      }
    },
    {
      "cell_type": "code",
      "source": [
        "# ELMo\n",
        "\n",
        "\n",
        "\n"
      ],
      "metadata": {
        "id": "ppvivMN5oTd4"
      },
      "execution_count": null,
      "outputs": []
    }
  ]
}
